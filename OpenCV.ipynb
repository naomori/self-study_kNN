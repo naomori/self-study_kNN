{
 "cells": [
  {
   "cell_type": "markdown",
   "metadata": {},
   "source": [
    "\n",
    "# [k近傍法(k-Nearest Neighbor)の理解](https://docs.opencv.org/master/d5/d26/tutorial_py_knn_understanding.html)\n",
    "\n",
    "#### 最近傍法（Nearest Neighbor）\n",
    "対象のデータから、最も近い距離にある１つデータのクラスに分類する方法\n",
    "\n",
    "#### k近傍法（k-Nearest Neighbor） \n",
    "対象のデータから、最も近い距離にあるk個のデータのうち多数決でクラスを分類する方法\n",
    "\n",
    "#### 変形k近傍法（modified kNN）\n",
    "kNNの各特徴量に重みを与え、総和が一番大きなクラスに分類する方法"
   ]
  },
  {
   "cell_type": "markdown",
   "metadata": {},
   "source": [
    "## OpenCV による分類\n",
    "\n",
    "以下のクラスを用意して、25個のデータを作ります。\n",
    "* red:  Class-0\n",
    "* blue: Class-1\n",
    "\n",
    "各データは x, y 軸それぞれに 0-99 の値を持ちます。"
   ]
  },
  {
   "cell_type": "code",
   "execution_count": 15,
   "metadata": {},
   "outputs": [
    {
     "data": {
      "image/png": "[encoded data removed]",
      "text/plain": [
       "<Figure size 432x288 with 1 Axes>"
      ]
     },
     "metadata": {
      "needs_background": "light"
     },
     "output_type": "display_data"
    }
   ],
   "source": [
    "import cv2 as cv\n",
    "import numpy as np\n",
    "import matplotlib.pyplot as plt\n",
    "# Feature set containing (x,y) values of 25 known/training data\n",
    "trainData = np.random.randint(0,100,(25,2)).astype(np.float32)\n",
    "# Labels each one either Red or Blue with numbers 0 and 1\n",
    "responses = np.random.randint(0,2,(25,1)).astype(np.float32)\n",
    "# Take Red families and plot them\n",
    "red = trainData[responses.ravel()==0]\n",
    "plt.scatter(red[:,0],red[:,1],80,'r','^')\n",
    "# Take Blue families and plot them\n",
    "blue = trainData[responses.ravel()==1]\n",
    "plt.scatter(blue[:,0],blue[:,1],80,'b','s')\n",
    "plt.show()"
   ]
  },
  {
   "cell_type": "code",
   "execution_count": 19,
   "metadata": {},
   "outputs": [
    {
     "name": "stdout",
     "output_type": "stream",
     "text": [
      "result:  [[0.]]\n",
      "\n",
      "neighbours:  [[1. 0. 0.]]\n",
      "\n",
      "distance:  [[ 20. 281. 521.]]\n",
      "\n"
     ]
    },
    {
     "data": {
      "image/png": "[encoded data removed]",
      "text/plain": [
       "<Figure size 432x288 with 1 Axes>"
      ]
     },
     "metadata": {
      "needs_background": "light"
     },
     "output_type": "display_data"
    }
   ],
   "source": [
    "# 新しいデータを用意してプロットします。\n",
    "newcomer = np.random.randint(0,100,(1,2)).astype(np.float32)\n",
    "plt.scatter(newcomer[:,0],newcomer[:,1],80,'g','o')\n",
    "\n",
    "# kNN モデルを作成して、先程の訓練データとターゲットからモデルを訓練します。\n",
    "knn = cv.ml.KNearest_create()\n",
    "knn.train(trainData, cv.ml.ROW_SAMPLE, responses)\n",
    "\n",
    "# 訓練したモデルで新しいデータを分類します。\n",
    "ret, results, neighbours ,dist = knn.findNearest(newcomer, 3)\n",
    "\n",
    "# k-NN によって求めて新しいデータのクラス\n",
    "print( \"result:  {}\\n\".format(results) )\n",
    "\n",
    "# k近傍点のラベル\n",
    "print( \"neighbours:  {}\\n\".format(neighbours) )\n",
    "\n",
    "# 新しいデータとk近傍点との距離\n",
    "print( \"distance:  {}\\n\".format(dist) )\n",
    "\n",
    "plt.show()"
   ]
  },
  {
   "cell_type": "code",
   "execution_count": 24,
   "metadata": {},
   "outputs": [
    {
     "name": "stdout",
     "output_type": "stream",
     "text": [
      "result:  [[0.]\n",
      " [0.]\n",
      " [1.]\n",
      " [1.]\n",
      " [1.]\n",
      " [1.]\n",
      " [1.]\n",
      " [1.]\n",
      " [1.]\n",
      " [1.]]\n",
      "\n",
      "neighbours:  [[1. 0. 0.]\n",
      " [0. 1. 0.]\n",
      " [1. 1. 1.]\n",
      " [0. 1. 1.]\n",
      " [1. 1. 1.]\n",
      " [1. 1. 1.]\n",
      " [1. 0. 1.]\n",
      " [0. 1. 1.]\n",
      " [1. 0. 1.]\n",
      " [1. 1. 1.]]\n",
      "\n",
      "distance:  [[  97.  137.  410.]\n",
      " [ 109.  160.  370.]\n",
      " [ 221.  234.  260.]\n",
      " [ 409. 1037. 1201.]\n",
      " [  45.  185.  698.]\n",
      " [ 901. 1009. 1306.]\n",
      " [ 106.  305.  317.]\n",
      " [  45.  290.  425.]\n",
      " [  74.  109.  205.]\n",
      " [ 425.  565.  626.]]\n",
      "\n"
     ]
    }
   ],
   "source": [
    "# 10 new comers\n",
    "newcomers = np.random.randint(0,100,(10,2)).astype(np.float32)\n",
    "ret, results,neighbours,dist = knn.findNearest(newcomers, 3)\n",
    "# The results also will contain 10 labels.\n",
    "\n",
    "# k-NN によって求めて新しいデータのクラス\n",
    "print( \"result:  {}\\n\".format(results) )\n",
    "\n",
    "# k近傍点のラベル\n",
    "print( \"neighbours:  {}\\n\".format(neighbours) )\n",
    "\n",
    "# 新しいデータとk近傍点との距離\n",
    "print( \"distance:  {}\\n\".format(dist) )\n",
    "\n",
    "plt.show()"
   ]
  },
  {
   "cell_type": "code",
   "execution_count": null,
   "metadata": {},
   "outputs": [],
   "source": []
  }
 ],
 "metadata": {
  "kernelspec": {
   "display_name": "Python 3",
   "language": "python",
   "name": "python3"
  },
  "language_info": {
   "codemirror_mode": {
    "name": "ipython",
    "version": 3
   },
   "file_extension": ".py",
   "mimetype": "text/x-python",
   "name": "python",
   "nbconvert_exporter": "python",
   "pygments_lexer": "ipython3",
   "version": "3.7.3"
  }
 },
 "nbformat": 4,
 "nbformat_minor": 2
}
